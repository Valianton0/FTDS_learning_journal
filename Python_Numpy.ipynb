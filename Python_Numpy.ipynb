{
  "nbformat": 4,
  "nbformat_minor": 0,
  "metadata": {
    "colab": {
      "name": "Python Numpy.ipynb",
      "provenance": [],
      "collapsed_sections": []
    },
    "kernelspec": {
      "name": "python3",
      "display_name": "Python 3"
    },
    "language_info": {
      "name": "python"
    }
  },
  "cells": [
    {
      "cell_type": "code",
      "execution_count": 1,
      "metadata": {
        "colab": {
          "base_uri": "https://localhost:8080/"
        },
        "id": "ffpFfqK-x04f",
        "outputId": "bcd32b95-53c3-4c4b-cefc-40e1b08940b1"
      },
      "outputs": [
        {
          "output_type": "stream",
          "name": "stdout",
          "text": [
            "Requirement already satisfied: numpy in /usr/local/lib/python3.7/dist-packages (1.19.5)\n"
          ]
        }
      ],
      "source": [
        "pip install numpy\n"
      ]
    },
    {
      "cell_type": "code",
      "source": [
        "import numpy as np\n",
        "import pandas as pd\n",
        "import matplotlib.pyplot as plt"
      ],
      "metadata": {
        "id": "6ebdejfYyuIA"
      },
      "execution_count": 2,
      "outputs": []
    },
    {
      "cell_type": "code",
      "source": [
        "a = [1,2,3,4,5]\n",
        "print(a)\n",
        "print(type(a))\n",
        "\n"
      ],
      "metadata": {
        "colab": {
          "base_uri": "https://localhost:8080/"
        },
        "id": "LjrwpTbyy4zP",
        "outputId": "03ea9adb-5443-4da9-ffa4-8fdb3f9df161"
      },
      "execution_count": 3,
      "outputs": [
        {
          "output_type": "stream",
          "name": "stdout",
          "text": [
            "[1, 2, 3, 4, 5]\n",
            "<class 'list'>\n"
          ]
        }
      ]
    },
    {
      "cell_type": "code",
      "source": [
        "b = np.array(a)\n",
        "print(b)\n",
        "print(type(b))"
      ],
      "metadata": {
        "colab": {
          "base_uri": "https://localhost:8080/"
        },
        "id": "h8P4H7CGzImW",
        "outputId": "ae0ecade-44e0-4d12-8b59-5b0915f5c2b5"
      },
      "execution_count": 4,
      "outputs": [
        {
          "output_type": "stream",
          "name": "stdout",
          "text": [
            "[1 2 3 4 5]\n",
            "<class 'numpy.ndarray'>\n"
          ]
        }
      ]
    },
    {
      "cell_type": "code",
      "source": [
        "c = [1,2,\"pagi\", \"siang\"]\n",
        "c = np.array(c)\n",
        "print(c)\n",
        "print(type(c))"
      ],
      "metadata": {
        "colab": {
          "base_uri": "https://localhost:8080/"
        },
        "id": "-f-lDlTFzS3W",
        "outputId": "6b9e8884-67ff-48a2-ecfc-6470fd3ef8e3"
      },
      "execution_count": 5,
      "outputs": [
        {
          "output_type": "stream",
          "name": "stdout",
          "text": [
            "['1' '2' 'pagi' 'siang']\n",
            "<class 'numpy.ndarray'>\n"
          ]
        }
      ]
    },
    {
      "cell_type": "code",
      "source": [
        "d = [[1,2,3], [4,5,6]]\n",
        "d = np.array(d)\n",
        "d # di jupyter dan golab ini, ga perlu perintah print utk ngedisplay hasil syntax, tapi ia akan menunjukkan tipe datanya"
      ],
      "metadata": {
        "colab": {
          "base_uri": "https://localhost:8080/"
        },
        "id": "Zm5IdzZN0J1l",
        "outputId": "2e35fade-4705-46ae-b6da-f590d6afb228"
      },
      "execution_count": 6,
      "outputs": [
        {
          "output_type": "execute_result",
          "data": {
            "text/plain": [
              "array([[1, 2, 3],\n",
              "       [4, 5, 6]])"
            ]
          },
          "metadata": {},
          "execution_count": 6
        }
      ]
    },
    {
      "cell_type": "markdown",
      "source": [
        "### Latihan Numpy"
      ],
      "metadata": {
        "id": "84Pr8VbF029m"
      }
    },
    {
      "cell_type": "code",
      "source": [
        "# NOMOR 1\n",
        "# Buatlah sebuah array seperti dibawah ini dan tambahkan setiap elemennya dengan 1.\n",
        "a = [10, 20, 30, 40, 50]\n",
        "a = np.array(a)\n",
        "a\n"
      ],
      "metadata": {
        "colab": {
          "base_uri": "https://localhost:8080/"
        },
        "id": "Th-r_SwE0wMB",
        "outputId": "e885643a-1613-4aa3-f102-8d7921a895b4"
      },
      "execution_count": 10,
      "outputs": [
        {
          "output_type": "execute_result",
          "data": {
            "text/plain": [
              "array([10, 20, 30, 40, 50])"
            ]
          },
          "metadata": {},
          "execution_count": 10
        }
      ]
    },
    {
      "cell_type": "code",
      "source": [
        "# cara 1\n",
        "\n",
        "a = [10, 20, 30, 40, 50]\n",
        "a = np.array(a) +1\n",
        "a   # hasilnya integer"
      ],
      "metadata": {
        "colab": {
          "base_uri": "https://localhost:8080/"
        },
        "id": "rsoqELWj1YeN",
        "outputId": "0b71c05f-1497-4188-f3a9-5719ed8ae944"
      },
      "execution_count": 9,
      "outputs": [
        {
          "output_type": "execute_result",
          "data": {
            "text/plain": [
              "array([11, 21, 31, 41, 51])"
            ]
          },
          "metadata": {},
          "execution_count": 9
        }
      ]
    },
    {
      "cell_type": "code",
      "source": [
        "# cara 2 Penambahan dengan matriks\n",
        "\n",
        "a = [10, 20, 30, 40, 50]\n",
        "a = np.array(a) + np.ones(5)\n",
        "a   # hasilnya jadi float"
      ],
      "metadata": {
        "colab": {
          "base_uri": "https://localhost:8080/"
        },
        "id": "K6J61iWC1h1l",
        "outputId": "66cec0b0-977e-44dd-a487-2001daebc3db"
      },
      "execution_count": 13,
      "outputs": [
        {
          "output_type": "execute_result",
          "data": {
            "text/plain": [
              "array([11., 21., 31., 41., 51.])"
            ]
          },
          "metadata": {},
          "execution_count": 13
        }
      ]
    },
    {
      "cell_type": "code",
      "source": [
        "np.ones((3,3))"
      ],
      "metadata": {
        "colab": {
          "base_uri": "https://localhost:8080/"
        },
        "id": "w-Xp7Lfs2N6V",
        "outputId": "87aba9c5-899d-4c37-bf92-93a347c76de0"
      },
      "execution_count": 14,
      "outputs": [
        {
          "output_type": "execute_result",
          "data": {
            "text/plain": [
              "array([[1., 1., 1.],\n",
              "       [1., 1., 1.],\n",
              "       [1., 1., 1.]])"
            ]
          },
          "metadata": {},
          "execution_count": 14
        }
      ]
    },
    {
      "cell_type": "code",
      "source": [
        "np.ones((4,3,3)) # BISA JUGA DENGAN ZEROS"
      ],
      "metadata": {
        "colab": {
          "base_uri": "https://localhost:8080/"
        },
        "id": "bpqhahsC2UP2",
        "outputId": "7ddede94-02f6-4730-8a79-1820875c9fc4"
      },
      "execution_count": 15,
      "outputs": [
        {
          "output_type": "execute_result",
          "data": {
            "text/plain": [
              "array([[[1., 1., 1.],\n",
              "        [1., 1., 1.],\n",
              "        [1., 1., 1.]],\n",
              "\n",
              "       [[1., 1., 1.],\n",
              "        [1., 1., 1.],\n",
              "        [1., 1., 1.]],\n",
              "\n",
              "       [[1., 1., 1.],\n",
              "        [1., 1., 1.],\n",
              "        [1., 1., 1.]],\n",
              "\n",
              "       [[1., 1., 1.],\n",
              "        [1., 1., 1.],\n",
              "        [1., 1., 1.]]])"
            ]
          },
          "metadata": {},
          "execution_count": 15
        }
      ]
    },
    {
      "cell_type": "code",
      "source": [
        "# NOMOR 2\n",
        "# Buatlah sebuah array seperti dibawah ini dan keluarkan element yang bernilai negatif.\n",
        "b = [-3, 0, -2, 1, 2, 3, -4]\n",
        "b = np.array(b)\n",
        "b = b[b < 0] # kenapa b[b < 0] untuk menunjukkan hasil didalam list b dan di syntax kan\n",
        "b # jika diketik b < O maka akan diperiksa sebagai jawaban True atau False"
      ],
      "metadata": {
        "colab": {
          "base_uri": "https://localhost:8080/"
        },
        "id": "XdRkKiVE1dw1",
        "outputId": "d26d4919-1d40-4f5c-d1ad-be359f93924b"
      },
      "execution_count": 18,
      "outputs": [
        {
          "output_type": "execute_result",
          "data": {
            "text/plain": [
              "array([-3, -2, -4])"
            ]
          },
          "metadata": {},
          "execution_count": 18
        }
      ]
    },
    {
      "cell_type": "code",
      "source": [
        "# NOMOR 3\n",
        "# Buatlah sebuah array seperti dibawah ini. Keluarkan element yang bernilai positif kemudian urutkan dari nilai yang kecil ke besar\n",
        "\n",
        "c = [10, -8, 4, 5, -41, 7, 5, -4]\n",
        "c = np.array(c)\n",
        "c = c[c > 0]\n",
        "np.sort(c) # fungsinya mengurutkan hasil c[c > 0 ] dari terkecil ke terbesar, bisa juga np.sort(c[::1])"
      ],
      "metadata": {
        "colab": {
          "base_uri": "https://localhost:8080/"
        },
        "id": "WNPqzgR926MF",
        "outputId": "c1dfea8f-73d9-45ee-cee9-cda1103546b3"
      },
      "execution_count": 22,
      "outputs": [
        {
          "output_type": "execute_result",
          "data": {
            "text/plain": [
              "array([ 4,  5,  5,  7, 10])"
            ]
          },
          "metadata": {},
          "execution_count": 22
        }
      ]
    },
    {
      "cell_type": "code",
      "source": [
        "np.sort(c)[::-1] #fungsinya mengurutkan hasil c[c > 0 ] dari terbesar ke terkecil"
      ],
      "metadata": {
        "colab": {
          "base_uri": "https://localhost:8080/"
        },
        "id": "bN5CZT6p5Iit",
        "outputId": "4e247d06-031e-4b31-8f94-a01ebd8cd01f"
      },
      "execution_count": 20,
      "outputs": [
        {
          "output_type": "execute_result",
          "data": {
            "text/plain": [
              "array([10,  7,  5,  5,  4])"
            ]
          },
          "metadata": {},
          "execution_count": 20
        }
      ]
    },
    {
      "cell_type": "code",
      "source": [
        "# np.sort vs sorted()\n",
        "# np.sort tipe datanya berubah menjadi array, bawaan numpy\n",
        "# sorted() tpe datanya berubah menjadi list, bawaan python"
      ],
      "metadata": {
        "id": "ZMeg6FVO7Bv_"
      },
      "execution_count": 23,
      "outputs": []
    },
    {
      "cell_type": "code",
      "source": [
        "# NOMOR 4\n",
        "# Buatlah array seperti dibawah ini kemudian tumpukkan secara horizontal dan vertikal satu sama lain.\n",
        "\n",
        "d = [1, 2, 3, 4, 5]\n",
        "e = [6, 7, 8, 9, 10]\n",
        "\n",
        "d = np.array(d)\n",
        "e = np.array(e)\n",
        "\n",
        "#np.vstack((d,e)) # vertical stacking\n",
        "\n",
        "vstack_de = np.vstack((d,e)) #bisa juga begini untuk vstacking\n",
        "vstack_de"
      ],
      "metadata": {
        "colab": {
          "base_uri": "https://localhost:8080/"
        },
        "id": "wSiFkib36LRE",
        "outputId": "0b0bfb1b-3d70-4099-affe-06a413b49c61"
      },
      "execution_count": 29,
      "outputs": [
        {
          "output_type": "execute_result",
          "data": {
            "text/plain": [
              "array([[ 1,  2,  3,  4,  5],\n",
              "       [ 6,  7,  8,  9, 10]])"
            ]
          },
          "metadata": {},
          "execution_count": 29
        }
      ]
    },
    {
      "cell_type": "code",
      "source": [
        "np.hstack((d,e)) # horizontal stacking"
      ],
      "metadata": {
        "colab": {
          "base_uri": "https://localhost:8080/"
        },
        "id": "rlWFiDuQ7jF3",
        "outputId": "cfd773e1-dcd6-4b35-aadf-76e785b1fe22"
      },
      "execution_count": 25,
      "outputs": [
        {
          "output_type": "execute_result",
          "data": {
            "text/plain": [
              "array([ 1,  2,  3,  4,  5,  6,  7,  8,  9, 10])"
            ]
          },
          "metadata": {},
          "execution_count": 25
        }
      ]
    },
    {
      "cell_type": "code",
      "source": [
        "d.shape #untuk mengetahui bentuk matriks, dari hasilnya kita dapat mengetahui bahwa ada 5 item dan satu dimensi"
      ],
      "metadata": {
        "colab": {
          "base_uri": "https://localhost:8080/"
        },
        "id": "jLFN3SMD8OBT",
        "outputId": "eb39660c-d47b-43e2-8906-4a640e01b844"
      },
      "execution_count": 27,
      "outputs": [
        {
          "output_type": "execute_result",
          "data": {
            "text/plain": [
              "(5,)"
            ]
          },
          "metadata": {},
          "execution_count": 27
        }
      ]
    },
    {
      "cell_type": "code",
      "source": [
        "vstack_de.size # untuk mengetahui ukuran vertical stacking"
      ],
      "metadata": {
        "colab": {
          "base_uri": "https://localhost:8080/"
        },
        "id": "RPZFjVfb8Pr8",
        "outputId": "5ffa3182-ac49-4f7b-fa78-cdeff59c3f92"
      },
      "execution_count": 30,
      "outputs": [
        {
          "output_type": "execute_result",
          "data": {
            "text/plain": [
              "10"
            ]
          },
          "metadata": {},
          "execution_count": 30
        }
      ]
    },
    {
      "cell_type": "code",
      "source": [
        "np.transpose(vstack_de)"
      ],
      "metadata": {
        "colab": {
          "base_uri": "https://localhost:8080/"
        },
        "id": "xOEzt0GN8bvE",
        "outputId": "8993bf61-7e35-469a-a664-37488025c7a2"
      },
      "execution_count": 31,
      "outputs": [
        {
          "output_type": "execute_result",
          "data": {
            "text/plain": [
              "array([[ 1,  6],\n",
              "       [ 2,  7],\n",
              "       [ 3,  8],\n",
              "       [ 4,  9],\n",
              "       [ 5, 10]])"
            ]
          },
          "metadata": {},
          "execution_count": 31
        }
      ]
    },
    {
      "cell_type": "code",
      "source": [
        "np.transpose(vstack_de).shape"
      ],
      "metadata": {
        "colab": {
          "base_uri": "https://localhost:8080/"
        },
        "id": "6qJur8888R6r",
        "outputId": "b1383425-eddd-4e3e-c831-d821296adb2f"
      },
      "execution_count": 32,
      "outputs": [
        {
          "output_type": "execute_result",
          "data": {
            "text/plain": [
              "(5, 2)"
            ]
          },
          "metadata": {},
          "execution_count": 32
        }
      ]
    },
    {
      "cell_type": "code",
      "source": [
        "# NOMOR 5\n",
        "# Buatlah dua buah array seperti dibawah ini yang berasal dari 1 deklarasi variabel yang sama. Kemudian, kalikan array pertama dengan 2 dan kalikan array kedua dengan 3.\n",
        "\n",
        "f = [10, 20, 30, 40, 50]\n",
        "f = np.array(f)\n",
        "f_new = f.copy() #supaya letak di memory hardware berbeda segmen/blok nya, jadi f ori ga ke edit\n",
        "\n",
        "f = f * 2\n",
        "f_new = f_new* 3\n",
        "\n",
        "print(f)\n",
        "print(f_new)\n",
        "\n",
        "\n",
        "\n"
      ],
      "metadata": {
        "colab": {
          "base_uri": "https://localhost:8080/"
        },
        "id": "lwnljSwW7t6N",
        "outputId": "2acae45f-ae14-4341-d80f-d170c75025d3"
      },
      "execution_count": 38,
      "outputs": [
        {
          "output_type": "stream",
          "name": "stdout",
          "text": [
            "[ 20  40  60  80 100]\n",
            "[ 30  60  90 120 150]\n"
          ]
        }
      ]
    },
    {
      "cell_type": "code",
      "source": [
        "# NOMOR 6\n",
        "# Buatlah sebuah array seperti dibawah ini dan hitung total jumlahnya.\n",
        "\n",
        "h = [1, 2, 3, 4, 5]\n",
        "j = [ [1, 2, 3],\n",
        "      [4, 5, 6]]\n",
        "\n",
        "h = np.array(h)\n",
        "h.sum() # bisa dimainkan sum min max, macam di excel"
      ],
      "metadata": {
        "colab": {
          "base_uri": "https://localhost:8080/"
        },
        "id": "p3wHMPoP84nE",
        "outputId": "8c1ca03b-a096-4ba9-e9bd-cd1ce2329955"
      },
      "execution_count": 35,
      "outputs": [
        {
          "output_type": "execute_result",
          "data": {
            "text/plain": [
              "15"
            ]
          },
          "metadata": {},
          "execution_count": 35
        }
      ]
    },
    {
      "cell_type": "code",
      "source": [
        "j = [ [1, 2, 3],\n",
        "      [4, 5, 6]]\n",
        "j = np.array(j)\n",
        "j.sum(axis=1) # jika ingin menjumlahkan coloumn kasih 0, row kasih 1"
      ],
      "metadata": {
        "colab": {
          "base_uri": "https://localhost:8080/"
        },
        "id": "70dHU10U-iCk",
        "outputId": "3bdf4276-3b80-4107-d832-cd1996e74843"
      },
      "execution_count": 36,
      "outputs": [
        {
          "output_type": "execute_result",
          "data": {
            "text/plain": [
              "array([ 6, 15])"
            ]
          },
          "metadata": {},
          "execution_count": 36
        }
      ]
    },
    {
      "cell_type": "code",
      "source": [
        "j.sum(axis=0)"
      ],
      "metadata": {
        "colab": {
          "base_uri": "https://localhost:8080/"
        },
        "id": "SiYE9sym_VuA",
        "outputId": "3e7780dd-64f3-4751-ac4b-cbeca07da74b"
      },
      "execution_count": 37,
      "outputs": [
        {
          "output_type": "execute_result",
          "data": {
            "text/plain": [
              "array([5, 7, 9])"
            ]
          },
          "metadata": {},
          "execution_count": 37
        }
      ]
    },
    {
      "cell_type": "code",
      "source": [
        "# NOMOR 7\n",
        "# Buatlah sebuah array seperti dibawah ini dan cari nilai min, max, dan sum per baris dan per kolom.\n",
        "\n",
        "k = [ [1, 2, 3],\n",
        "      [4, 5, 6]]\n",
        "k = np.array(k)\n",
        "\n",
        "print(k.min(axis=1))\n",
        "print(k.max(axis=1))\n",
        "print(k.sum(axis=1))\n",
        "print(k.min(axis=0))\n",
        "print(k.max(axis=0))\n",
        "print(k.sum(axis=0))\n"
      ],
      "metadata": {
        "colab": {
          "base_uri": "https://localhost:8080/"
        },
        "id": "iQwMBHiG_g4y",
        "outputId": "8cf6b0d8-f97f-477e-9201-1596bf716e3d"
      },
      "execution_count": 63,
      "outputs": [
        {
          "output_type": "stream",
          "name": "stdout",
          "text": [
            "[1 4]\n",
            "[3 6]\n",
            "[ 6 15]\n",
            "[1 2 3]\n",
            "[4 5 6]\n",
            "[5 7 9]\n"
          ]
        }
      ]
    },
    {
      "cell_type": "code",
      "source": [
        "# NOMOR 8\n",
        "# Buatlah sebuah array seperti dibawah ini dan cari baris kedua dan kolom kedua.\n",
        "\n",
        "n = [ [1, 2, 3], # cara bacanya bukan baris/kolom 1, 2, 3 tapi baris/kolom 0,1,2\n",
        "      [4, 5, 6],\n",
        "      [7, 8, 9]]\n",
        "\n",
        "n = np.array(n)\n",
        "n[:] # n[<ini bagian index baris start>:<ini bagian index baris end>, <ini bagian index kolom start>:<ini bagian index kolom end>]"
      ],
      "metadata": {
        "colab": {
          "base_uri": "https://localhost:8080/"
        },
        "id": "5h0_fsSPATym",
        "outputId": "a1dc2f12-6b41-435c-cadb-a35e460a8fea"
      },
      "execution_count": 64,
      "outputs": [
        {
          "output_type": "execute_result",
          "data": {
            "text/plain": [
              "array([[1, 2, 3],\n",
              "       [4, 5, 6],\n",
              "       [7, 8, 9]])"
            ]
          },
          "metadata": {},
          "execution_count": 64
        }
      ]
    },
    {
      "cell_type": "code",
      "source": [
        "n[1:2]"
      ],
      "metadata": {
        "colab": {
          "base_uri": "https://localhost:8080/"
        },
        "id": "nFOJgY2_CNzr",
        "outputId": "8efbc009-416d-40c1-a22b-5436ea93e981"
      },
      "execution_count": 65,
      "outputs": [
        {
          "output_type": "execute_result",
          "data": {
            "text/plain": [
              "array([[4, 5, 6]])"
            ]
          },
          "metadata": {},
          "execution_count": 65
        }
      ]
    },
    {
      "cell_type": "code",
      "source": [
        "n[1]"
      ],
      "metadata": {
        "colab": {
          "base_uri": "https://localhost:8080/"
        },
        "id": "ybS3QboeDB-S",
        "outputId": "ffdafeb9-960e-44b6-e9e2-b5f047005884"
      },
      "execution_count": 66,
      "outputs": [
        {
          "output_type": "execute_result",
          "data": {
            "text/plain": [
              "array([4, 5, 6])"
            ]
          },
          "metadata": {},
          "execution_count": 66
        }
      ]
    },
    {
      "cell_type": "code",
      "source": [
        "n[:, 1:2]"
      ],
      "metadata": {
        "colab": {
          "base_uri": "https://localhost:8080/"
        },
        "id": "6l4jvhKMDGmK",
        "outputId": "618eb1ef-b6a2-46af-9198-52e83e05499d"
      },
      "execution_count": 67,
      "outputs": [
        {
          "output_type": "execute_result",
          "data": {
            "text/plain": [
              "array([[2],\n",
              "       [5],\n",
              "       [8]])"
            ]
          },
          "metadata": {},
          "execution_count": 67
        }
      ]
    },
    {
      "cell_type": "code",
      "source": [
        "np.diag(n) # untuk diagonal"
      ],
      "metadata": {
        "colab": {
          "base_uri": "https://localhost:8080/"
        },
        "id": "15-YQz_8DPBh",
        "outputId": "b111bc9e-bab9-4264-f98b-582ed255e965"
      },
      "execution_count": 68,
      "outputs": [
        {
          "output_type": "execute_result",
          "data": {
            "text/plain": [
              "array([1, 5, 9])"
            ]
          },
          "metadata": {},
          "execution_count": 68
        }
      ]
    },
    {
      "cell_type": "code",
      "source": [
        "# NOMOR 9\n",
        "# Buatlah sebuah array seperti dibawah ini dan cari nilai min, max, dan sum untuk baris kedua dan kolom kedua.\n",
        "\n",
        "m = [ [1, 2, 3], \n",
        "      [4, 5, 6],\n",
        "      [7, 8, 9]]\n",
        "\n",
        "m = np.array(m)\n",
        "\n",
        "m_baris = m.copy()\n",
        "m_baris = m_baris[1:2]\n",
        "print(m_baris.min(), m_baris.max(), m_baris.sum())\n",
        "\n",
        "m_kolom = m.copy()\n",
        "m_kolom = m_kolom[:, 1:2]\n",
        "print(m_baris.min(), m_baris.max(), m_baris.sum())"
      ],
      "metadata": {
        "colab": {
          "base_uri": "https://localhost:8080/"
        },
        "id": "VnRM0ij7DSLy",
        "outputId": "2520616f-8b20-4c11-b07a-14ae689d1e9b"
      },
      "execution_count": 71,
      "outputs": [
        {
          "output_type": "stream",
          "name": "stdout",
          "text": [
            "4 6 15\n",
            "4 6 15\n"
          ]
        }
      ]
    },
    {
      "cell_type": "code",
      "source": [
        "m_baris = m.copy()\n",
        "m_baris = m_baris[1:]\n",
        "m_baris"
      ],
      "metadata": {
        "colab": {
          "base_uri": "https://localhost:8080/"
        },
        "id": "dwjQZIDKFdSX",
        "outputId": "22eb9b94-3b4f-4f02-93ee-89ee02cc1066"
      },
      "execution_count": 74,
      "outputs": [
        {
          "output_type": "execute_result",
          "data": {
            "text/plain": [
              "array([[4, 5, 6],\n",
              "       [7, 8, 9]])"
            ]
          },
          "metadata": {},
          "execution_count": 74
        }
      ]
    },
    {
      "cell_type": "code",
      "source": [
        "# NOMOR 10\n",
        "\n",
        "import matplotlib.pyplot as plt\n",
        "img = plt.imread(\"greyscale.png\")\n",
        "img.shape #supaya tau ukuran gambarnya, khusus yg ini ketahuan matriks 2 dimensi karena ada 2 elemen, 700 baris dan 1120 kolom"
      ],
      "metadata": {
        "colab": {
          "base_uri": "https://localhost:8080/"
        },
        "id": "QgvsQbdQFmp5",
        "outputId": "b647f10b-dee5-4904-b197-c78eac3615ed"
      },
      "execution_count": 75,
      "outputs": [
        {
          "output_type": "execute_result",
          "data": {
            "text/plain": [
              "(700, 1120)"
            ]
          },
          "metadata": {},
          "execution_count": 75
        }
      ]
    },
    {
      "cell_type": "code",
      "source": [
        "img.size # ini untuk mengetahui jumlah total piksel yang ada di gambar"
      ],
      "metadata": {
        "colab": {
          "base_uri": "https://localhost:8080/"
        },
        "id": "gtRG3KpPKJIp",
        "outputId": "e606915d-ccd9-4231-9a74-388b7e6499ee"
      },
      "execution_count": 97,
      "outputs": [
        {
          "output_type": "execute_result",
          "data": {
            "text/plain": [
              "784000"
            ]
          },
          "metadata": {},
          "execution_count": 97
        }
      ]
    },
    {
      "cell_type": "code",
      "source": [
        "img # angka semakin mendekati 0 adalah gelap, semakin mendekati 1 adalah terang"
      ],
      "metadata": {
        "colab": {
          "base_uri": "https://localhost:8080/"
        },
        "id": "HSSq2XNhGU4y",
        "outputId": "f67f16a6-829c-4d20-cc07-ce6388670721"
      },
      "execution_count": 76,
      "outputs": [
        {
          "output_type": "execute_result",
          "data": {
            "text/plain": [
              "array([[0.37254903, 0.3529412 , 0.34509805, ..., 0.        , 0.        ,\n",
              "        0.        ],\n",
              "       [0.38431373, 0.36078432, 0.34509805, ..., 0.        , 0.        ,\n",
              "        0.        ],\n",
              "       [0.3882353 , 0.36078432, 0.34117648, ..., 0.        , 0.        ,\n",
              "        0.        ],\n",
              "       ...,\n",
              "       [0.08235294, 0.07450981, 0.09411765, ..., 0.0627451 , 0.0627451 ,\n",
              "        0.06666667],\n",
              "       [0.07843138, 0.07450981, 0.10588235, ..., 0.06666667, 0.06666667,\n",
              "        0.06666667],\n",
              "       [0.05882353, 0.07058824, 0.12156863, ..., 0.07843138, 0.07843138,\n",
              "        0.07843138]], dtype=float32)"
            ]
          },
          "metadata": {},
          "execution_count": 76
        }
      ]
    },
    {
      "cell_type": "markdown",
      "source": [
        ""
      ],
      "metadata": {
        "id": "nQYxOVIUJ0VR"
      }
    },
    {
      "cell_type": "code",
      "source": [
        "img2 = img.copy()"
      ],
      "metadata": {
        "id": "5nPQ67h_GVth"
      },
      "execution_count": 77,
      "outputs": []
    },
    {
      "cell_type": "code",
      "source": [
        "num = 0.3\n",
        "img2 = img2 - num\n",
        "img2"
      ],
      "metadata": {
        "colab": {
          "base_uri": "https://localhost:8080/"
        },
        "id": "MoiYQ-kVHkay",
        "outputId": "8074d21f-8295-4c5c-baf1-c78232b88ec2"
      },
      "execution_count": 95,
      "outputs": [
        {
          "output_type": "execute_result",
          "data": {
            "text/plain": [
              "array([[-0.02745104, -0.04705882, -0.05490184, ..., -0.40000004,\n",
              "        -0.40000004, -0.40000004],\n",
              "       [-0.01568627, -0.03921556, -0.05490184, ..., -0.40000004,\n",
              "        -0.40000004, -0.40000004],\n",
              "       [-0.01176476, -0.03921556, -0.05882359, ..., -0.40000004,\n",
              "        -0.40000004, -0.40000004],\n",
              "       ...,\n",
              "       [-0.3176471 , -0.32549024, -0.3058824 , ..., -0.33725494,\n",
              "        -0.33725494, -0.33333337],\n",
              "       [-0.32156867, -0.32549024, -0.29411763, ..., -0.33333337,\n",
              "        -0.33333337, -0.33333337],\n",
              "       [-0.3411765 , -0.3294118 , -0.27843136, ..., -0.32156867,\n",
              "        -0.32156867, -0.32156867]], dtype=float32)"
            ]
          },
          "metadata": {},
          "execution_count": 95
        }
      ]
    },
    {
      "cell_type": "code",
      "source": [
        "plt.imshow(img, cmap=\"gray\", vmin=0, vmax=1)"
      ],
      "metadata": {
        "colab": {
          "base_uri": "https://localhost:8080/",
          "height": 278
        },
        "id": "gDtxNtOVH4eR",
        "outputId": "0ecf5b83-7445-4dee-fd10-9f614214afed"
      },
      "execution_count": 88,
      "outputs": [
        {
          "output_type": "execute_result",
          "data": {
            "text/plain": [
              "<matplotlib.image.AxesImage at 0x7f13728a3ed0>"
            ]
          },
          "metadata": {},
          "execution_count": 88
        },
        {
          "output_type": "display_data",
          "data": {
            "image/png": "[encoded data removed]",
            "text/plain": [
              "<Figure size 432x288 with 1 Axes>"
            ]
          },
          "metadata": {
            "needs_background": "light"
          }
        }
      ]
    },
    {
      "cell_type": "code",
      "source": [
        "plt.imshow(img2, cmap=\"gray\", vmin=0, vmax=1)"
      ],
      "metadata": {
        "colab": {
          "base_uri": "https://localhost:8080/",
          "height": 278
        },
        "id": "UW6gtFJ0IsEJ",
        "outputId": "99511cc0-30e9-41fc-d9ec-bfd2824cd80d"
      },
      "execution_count": 96,
      "outputs": [
        {
          "output_type": "execute_result",
          "data": {
            "text/plain": [
              "<matplotlib.image.AxesImage at 0x7f13726dc7d0>"
            ]
          },
          "metadata": {},
          "execution_count": 96
        },
        {
          "output_type": "display_data",
          "data": {
            "image/png": "[encoded data removed]",
            "text/plain": [
              "<Figure size 432x288 with 1 Axes>"
            ]
          },
          "metadata": {
            "needs_background": "light"
          }
        }
      ]
    }
  ]
}