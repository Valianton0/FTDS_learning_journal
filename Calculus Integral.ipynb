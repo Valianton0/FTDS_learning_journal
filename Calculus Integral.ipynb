{
 "cells": [
  {
   "cell_type": "markdown",
   "metadata": {},
   "source": [
    "## CALCULUS INTEGRAL"
   ]
  },
  {
   "cell_type": "markdown",
   "metadata": {},
   "source": [
    "Integral adalah salah satu cara untuk mengkalkulasi sebuah area"
   ]
  },
  {
   "cell_type": "markdown",
   "metadata": {},
   "source": [
    "Integral digunakan untuk menghitung luas secara kontinyu"
   ]
  },
  {
   "cell_type": "markdown",
   "metadata": {},
   "source": [
    "Sigma untuk matematika diskrit\n",
    "\n",
    "Integral untuk kontinyu"
   ]
  },
  {
   "cell_type": "markdown",
   "metadata": {},
   "source": [
    "INDEFINITE INTEGRAL\n",
    "\n",
    "INTEGRAL TAK MENENTU\n",
    "\n",
    "Dikatakan tak menentu karena dapat berubah"
   ]
  },
  {
   "cell_type": "markdown",
   "metadata": {},
   "source": [
    "Konstanta dilambangkan dengan C"
   ]
  },
  {
   "cell_type": "markdown",
   "metadata": {},
   "source": [
    "Konstanta kalau di turunkan jadi nol\n",
    "\n",
    "Kalau di integralkan ditambahkan x"
   ]
  },
  {
   "cell_type": "markdown",
   "metadata": {},
   "source": []
  }
 ],
 "metadata": {
  "language_info": {
   "name": "python"
  },
  "orig_nbformat": 4
 },
 "nbformat": 4,
 "nbformat_minor": 2
}
