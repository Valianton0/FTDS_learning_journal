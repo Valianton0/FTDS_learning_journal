{
  "cells": [
    {
      "cell_type": "markdown",
      "metadata": {
        "id": "RiwQJV-EzvGI"
      },
      "source": [
        "##CONDITIONAL"
      ]
    },
    {
      "cell_type": "code",
      "execution_count": 12,
      "metadata": {
        "colab": {
          "base_uri": "https://localhost:8080/"
        },
        "id": "7Ms6shKTwjyk",
        "outputId": "7ee810e0-3807-4344-8e78-d353794838f1"
      },
      "outputs": [
        {
          "name": "stdout",
          "output_type": "stream",
          "text": [
            "isi variabel angka adalah 1\n",
            "1 lebih kecil dari 10\n",
            "Ini masih dibawah if\n",
            "ini sudah diluar if\n"
          ]
        }
      ],
      "source": [
        "angka = 1\n",
        "print(f\"isi variabel angka adalah {angka}\")\n",
        "if angka < 10:\n",
        "  print(f\"{angka} lebih kecil dari 10\")\n",
        "  print(\"Ini masih dibawah if\")\n",
        "print(\"ini sudah diluar if\")"
      ]
    },
    {
      "cell_type": "code",
      "execution_count": 15,
      "metadata": {
        "colab": {
          "base_uri": "https://localhost:8080/"
        },
        "id": "uqQ0EA2X0X6j",
        "outputId": "9a07d740-e03f-4e71-c856-d4bb75d5b429"
      },
      "outputs": [
        {
          "name": "stdout",
          "output_type": "stream",
          "text": [
            "isi variabel angka adalah 15\n",
            "15 lebih besar dari 10\n"
          ]
        }
      ],
      "source": [
        "# if-else\n",
        "angka = 15\n",
        "print(f\"isi variabel angka adalah {angka}\")\n",
        "if angka < 10:\n",
        "  print(f\"{angka} lebih kecil dari 10\")\n",
        "else:\n",
        "  print(f\"{angka} lebih besar dari 10\")"
      ]
    },
    {
      "cell_type": "code",
      "execution_count": 16,
      "metadata": {
        "colab": {
          "base_uri": "https://localhost:8080/"
        },
        "id": "mX1C1S0p1cdL",
        "outputId": "c3861fa8-d900-4ad9-af08-837e5ee12051"
      },
      "outputs": [
        {
          "name": "stdout",
          "output_type": "stream",
          "text": [
            "isi variabel dengan angka adalah 2\n",
            "2 adalah genap\n"
          ]
        }
      ],
      "source": [
        "angka = 2\n",
        "print(f\"isi variabel dengan angka adalah {angka}\")\n",
        "if angka % 2 == 0:\n",
        "   print(f\"{angka} adalah genap\")\n",
        "else:\n",
        "  print(f\"{angka} adalah ganjil\")\n"
      ]
    },
    {
      "cell_type": "code",
      "execution_count": 17,
      "metadata": {
        "colab": {
          "base_uri": "https://localhost:8080/"
        },
        "id": "W__gxZlT1yQi",
        "outputId": "ff85c4c4-fcf9-40e4-b984-83d771e4a07f"
      },
      "outputs": [
        {
          "name": "stdout",
          "output_type": "stream",
          "text": [
            "4 bilangan genap\n"
          ]
        }
      ],
      "source": [
        "angka = 4\n",
        "if (angka % 2):\n",
        "  print (f\"{angka} bilangan ganjil\")\n",
        "else:\n",
        "  print (f\"{angka} bilangan genap\")\n"
      ]
    },
    {
      "cell_type": "code",
      "execution_count": 24,
      "metadata": {
        "colab": {
          "base_uri": "https://localhost:8080/"
        },
        "id": "7e3XHnTN2gok",
        "outputId": "8b9320c7-dba4-4588-92ad-4454b3680c24"
      },
      "outputs": [
        {
          "name": "stdout",
          "output_type": "stream",
          "text": [
            "isi variabel angka adalah 1\n",
            "1 lebih kecil dari 10\n"
          ]
        }
      ],
      "source": [
        "angka = 1\n",
        "print(f\"isi variabel angka adalah {angka}\")\n",
        "if angka == 10:\n",
        "  print(f\"{angka} sama dengan 10\")\n",
        "elif angka < 10:\n",
        "  print(f\"{angka} lebih kecil dari 10\")\n",
        "else:\n",
        "  print(f\"{angka} lebih besar dari 10\")"
      ]
    },
    {
      "cell_type": "code",
      "execution_count": 27,
      "metadata": {
        "colab": {
          "base_uri": "https://localhost:8080/"
        },
        "id": "wH-Ihfs74LgE",
        "outputId": "6688d864-ea70-443a-da41-cb6d4a91fd88"
      },
      "outputs": [
        {
          "name": "stdout",
          "output_type": "stream",
          "text": [
            "Mampir ke toko buah, cari jeruk\n",
            "tidak ada jeruk\n",
            "beli mangga aja deh\n"
          ]
        }
      ],
      "source": [
        "# studi kasus\n",
        "# nested if\n",
        "buahbuahan = [\"pepaya\", \"mangga\", \"pisang\", \"jambu\", \"jeruk\"]\n",
        "if len(buahbuahan) > 3:\n",
        "  print(\"Mampir ke toko buah, cari jeruk\")\n",
        "  if 'jeruk' in buahbuahan:\n",
        "    print(\"beli jeruk\")\n",
        "  else:\n",
        "    print(\"tidak ada jeruk\")\n",
        "    if 'mangga' in buahbuahan:\n",
        "      print(\"beli mangga aja deh\")\n",
        "else:\n",
        "  print(\"skip, buah-buahan yang dijual kurang variatif\")\n"
      ]
    },
    {
      "cell_type": "code",
      "execution_count": 29,
      "metadata": {
        "colab": {
          "base_uri": "https://localhost:8080/"
        },
        "id": "oYvVxJmS5rRR",
        "outputId": "d1d9db94-ecfd-4faa-a8cc-7b54146a520b"
      },
      "outputs": [
        {
          "name": "stdout",
          "output_type": "stream",
          "text": [
            "Anda mendapatkan skor B\n"
          ]
        }
      ],
      "source": [
        "# dosen\n",
        "# A : [85 - 100]\n",
        "# B : [65 - 85\n",
        "# C : [50 - 65\n",
        "# D : [25 - 50\n",
        "# E : [0 - 25\n",
        "\n",
        "angka = 70\n",
        "if angka > 84.9:\n",
        "  print(\" Anda mendapatkan skor A\")\n",
        "elif angka > 64.9:\n",
        "  print(\"Anda mendapatkan skor B\")\n",
        "elif angka > 49.9:\n",
        "  print(\"Anda mendapatkan skor C\")\n",
        "elif angka > 24.9:\n",
        "  print(\"Anda mendapatkan skor D\")\n",
        "elif angka > 0:\n",
        "  print(\"Anda mendapatkan skor E\")"
      ]
    },
    {
      "cell_type": "markdown",
      "metadata": {
        "id": "IkJDrF27_GyC"
      },
      "source": [
        "### Loop"
      ]
    },
    {
      "cell_type": "code",
      "execution_count": null,
      "metadata": {
        "id": "NQXPEni0_K14"
      },
      "outputs": [],
      "source": [
        "# while\n",
        "while True:\n",
        "  print(\"Nama saya Erick\")"
      ]
    },
    {
      "cell_type": "code",
      "execution_count": 30,
      "metadata": {
        "colab": {
          "base_uri": "https://localhost:8080/"
        },
        "id": "3fLUsVxa_cYh",
        "outputId": "62e656e1-02ad-4c92-ae80-05a5ed9a361a"
      },
      "outputs": [
        {
          "data": {
            "text/plain": [
              "5"
            ]
          },
          "execution_count": 30,
          "metadata": {},
          "output_type": "execute_result"
        }
      ],
      "source": [
        "# update kondisi\n",
        "angka = 5\n",
        "angka "
      ]
    },
    {
      "cell_type": "code",
      "execution_count": 31,
      "metadata": {
        "colab": {
          "base_uri": "https://localhost:8080/"
        },
        "id": "YncJ55RR_p8C",
        "outputId": "06b026b2-5e09-4689-ce33-cce8a54d779c"
      },
      "outputs": [
        {
          "data": {
            "text/plain": [
              "4"
            ]
          },
          "execution_count": 31,
          "metadata": {},
          "output_type": "execute_result"
        }
      ],
      "source": [
        "angka = angka - 1\n",
        "angka"
      ]
    },
    {
      "cell_type": "code",
      "execution_count": 32,
      "metadata": {
        "colab": {
          "base_uri": "https://localhost:8080/"
        },
        "id": "wdThrbaw_usg",
        "outputId": "e71e15b2-f08f-499c-e99a-35ed7f779e9b"
      },
      "outputs": [
        {
          "data": {
            "text/plain": [
              "3"
            ]
          },
          "execution_count": 32,
          "metadata": {},
          "output_type": "execute_result"
        }
      ],
      "source": [
        "angka -= 1\n",
        "angka"
      ]
    },
    {
      "cell_type": "code",
      "execution_count": 34,
      "metadata": {
        "colab": {
          "base_uri": "https://localhost:8080/"
        },
        "id": "XycNjuz6ACQq",
        "outputId": "73b295bc-4632-434f-d814-354aebaef385"
      },
      "outputs": [
        {
          "name": "stdout",
          "output_type": "stream",
          "text": [
            "Nama saya Erick\n",
            "Nama saya Erick\n",
            "Nama saya Erick\n",
            "Nama saya Erick\n",
            "Nama saya Erick\n"
          ]
        }
      ],
      "source": [
        "# while\n",
        "ulang = 5\n",
        "while ulang > 0:\n",
        "  print(\"Nama saya Erick\")\n",
        "  ulang -= 1"
      ]
    },
    {
      "cell_type": "code",
      "execution_count": 39,
      "metadata": {
        "colab": {
          "base_uri": "https://localhost:8080/"
        },
        "id": "sxVBi-THAxWc",
        "outputId": "25527199-2f63-4d0c-f132-80b23824f09d"
      },
      "outputs": [
        {
          "name": "stdout",
          "output_type": "stream",
          "text": [
            "7 x 1 = 7\n",
            "7 x 2 = 14\n",
            "7 x 3 = 21\n",
            "7 x 4 = 28\n",
            "7 x 5 = 35\n",
            "7 x 6 = 42\n",
            "7 x 7 = 49\n",
            "7 x 8 = 56\n",
            "7 x 9 = 63\n",
            "7 x 10 = 70\n",
            "7 x 11 = 77\n",
            "7 x 12 = 84\n"
          ]
        }
      ],
      "source": [
        "# tabel perkalian 7\n",
        "i = 1\n",
        "while i <= 12:\n",
        "  print(f\"{7} x {i} = {7*i}\")\n",
        "  i += 1\n"
      ]
    },
    {
      "cell_type": "code",
      "execution_count": 40,
      "metadata": {
        "colab": {
          "base_uri": "https://localhost:8080/"
        },
        "id": "m5OvuJqZBpA7",
        "outputId": "aa5a6f4c-765e-4e3d-968d-173b695d7ed9"
      },
      "outputs": [
        {
          "name": "stdout",
          "output_type": "stream",
          "text": [
            "Masukkan angka : 5\n",
            "Masukkan angka : 7\n",
            "Masukkan angka : 6\n",
            "Masukkan angka : 3\n",
            "Masukkan angka : 4\n",
            "2520\n"
          ]
        }
      ],
      "source": [
        "# kalkulator 5 input\n",
        "jml_input = 5\n",
        "hasil = 1\n",
        "while jml_input > 0:\n",
        "  angka = input(\"Masukkan angka : \")\n",
        "  hasil *= eval(angka)\n",
        "  jml_input -= 1\n",
        "print(hasil)\n"
      ]
    },
    {
      "cell_type": "code",
      "execution_count": 49,
      "metadata": {
        "colab": {
          "base_uri": "https://localhost:8080/"
        },
        "id": "I6MJ1ZAdCbmH",
        "outputId": "59b45ad7-2edb-416f-fb76-a6dcd0823932"
      },
      "outputs": [
        {
          "name": "stdout",
          "output_type": "stream",
          "text": [
            "Ketikkan menu yang ingin anda pesan, jika sudah selesai memesan silahkan ketikkan kata cukup\n"
          ]
        }
      ],
      "source": [
        "# developer restoran\n",
        "print(\"Ketikkan menu yang ingin anda pesan, jika sudah selesai memesan silahkan ketikkan kata cukup\")"
      ]
    },
    {
      "cell_type": "code",
      "execution_count": 44,
      "metadata": {
        "colab": {
          "base_uri": "https://localhost:8080/",
          "height": 129
        },
        "id": "qjteoU8jEM4J",
        "outputId": "a63d33f8-e9f9-4c16-ec14-f46bfef95621"
      },
      "outputs": [
        {
          "ename": "SyntaxError",
          "evalue": "ignored",
          "output_type": "error",
          "traceback": [
            "\u001b[0;36m  File \u001b[0;32m\"<ipython-input-44-984e7d163f26>\"\u001b[0;36m, line \u001b[0;32m2\u001b[0m\n\u001b[0;31m    pesanan = [teh es]\u001b[0m\n\u001b[0m                    ^\u001b[0m\n\u001b[0;31mSyntaxError\u001b[0m\u001b[0;31m:\u001b[0m invalid syntax\n"
          ]
        }
      ],
      "source": [
        "# punya mas Ari\n",
        "pesanan = [teh es]\n",
        "while pesanan_input != 'cukup':\n",
        "    pesanan_input = input (\"Apa pesanan anda?\")\n",
        "    pesanan.append(pesanan_input)\n",
        "print(pesanan)\n"
      ]
    },
    {
      "cell_type": "code",
      "execution_count": 52,
      "metadata": {
        "colab": {
          "base_uri": "https://localhost:8080/"
        },
        "id": "27BvjcRSGEXS",
        "outputId": "9c6f936f-c812-4a35-c2c4-c2f943e9c231"
      },
      "outputs": [
        {
          "name": "stdout",
          "output_type": "stream",
          "text": [
            "buah yang tersedia adalah pepaya\n",
            "buah yang tersedia adalah mangga\n",
            "buah yang tersedia adalah pisang\n",
            "buah yang tersedia adalah jambu\n"
          ]
        }
      ],
      "source": [
        "buahbuahan = [\"pepaya\", \"mangga\", \"pisang\", \"jambu\"]\n",
        "for buah in buahbuahan:\n",
        "  print(f\"buah yang tersedia adalah {buah}\")"
      ]
    },
    {
      "cell_type": "code",
      "execution_count": 56,
      "metadata": {
        "colab": {
          "base_uri": "https://localhost:8080/"
        },
        "id": "Ms-om_nYGyOg",
        "outputId": "49b6c82f-5ce4-4d19-bec3-6128f9be4429"
      },
      "outputs": [
        {
          "data": {
            "text/plain": [
              "[1, 3, 5, 7, 9]"
            ]
          },
          "execution_count": 56,
          "metadata": {},
          "output_type": "execute_result"
        }
      ],
      "source": [
        "list(range(1,10,2))"
      ]
    },
    {
      "cell_type": "code",
      "execution_count": 57,
      "metadata": {
        "colab": {
          "base_uri": "https://localhost:8080/"
        },
        "id": "Oz1Qhm0IHrax",
        "outputId": "56ae5578-abc4-4523-a3ec-a6bdda3c9267"
      },
      "outputs": [
        {
          "name": "stdout",
          "output_type": "stream",
          "text": [
            "Buah yang tersedia adalah : pepaya\n",
            "Buah yang tersedia adalah : mangga\n",
            "Buah yang tersedia adalah : pisang\n",
            "Buah yang tersedia adalah : jambu\n"
          ]
        }
      ],
      "source": [
        "for i in range(len(buahbuahan)):\n",
        "  print(f\"Buah yang tersedia adalah : {buahbuahan[i]}\")"
      ]
    },
    {
      "cell_type": "code",
      "execution_count": null,
      "metadata": {
        "id": "BT4s4uWAIo-_"
      },
      "outputs": [],
      "source": [
        "for i in range(1,13):\n",
        "  print(f\"{7} x {i} = {7} x {i}\")"
      ]
    },
    {
      "cell_type": "code",
      "execution_count": null,
      "metadata": {
        "id": "-WhEZ8osI_yw"
      },
      "outputs": [],
      "source": [
        "for i in range(1,5):\n",
        "  for j in range(1,5):\n",
        "    print(f\"{i} x {j} = {i*j}\")\n",
        "  print()"
      ]
    },
    {
      "cell_type": "code",
      "execution_count": 68,
      "metadata": {
        "colab": {
          "base_uri": "https://localhost:8080/"
        },
        "id": "98CQx4bvJh7N",
        "outputId": "39d8bd82-7e0d-4fe3-e127-3dcf8cc4e658"
      },
      "outputs": [
        {
          "name": "stdout",
          "output_type": "stream",
          "text": [
            "1\n",
            "2\n",
            "3\n"
          ]
        }
      ],
      "source": [
        "# break & continue\n",
        "for i in range(1,11):\n",
        "  if i == 4:\n",
        "    break\n",
        "  print(i)"
      ]
    },
    {
      "cell_type": "code",
      "execution_count": null,
      "metadata": {
        "id": "iFa0G8xvKNiq"
      },
      "outputs": [],
      "source": [
        "# break & continue\n",
        "for i in range(1,11):\n",
        "  if i == 4:\n",
        "    continue\n",
        "  print(i)"
      ]
    },
    {
      "cell_type": "code",
      "execution_count": 73,
      "metadata": {
        "colab": {
          "base_uri": "https://localhost:8080/"
        },
        "id": "SfUvRUywKXDh",
        "outputId": "38c4fb8f-4dea-46a7-d3d6-298035b9d857"
      },
      "outputs": [
        {
          "name": "stdout",
          "output_type": "stream",
          "text": [
            "1\n",
            "2\n",
            "3\n",
            "5\n",
            "6\n",
            "7\n",
            "8\n",
            "9\n",
            "10\n",
            "11\n"
          ]
        }
      ],
      "source": [
        "i = 0\n",
        "while i <= 10:\n",
        "  i += 1\n",
        "  if i == 4:\n",
        "    continue\n",
        "  print(i)"
      ]
    },
    {
      "cell_type": "code",
      "execution_count": null,
      "metadata": {
        "id": "1Lv_dRTmKXJ4"
      },
      "outputs": [],
      "source": []
    }
  ],
  "metadata": {
    "colab": {
      "name": "conditional_and_looping.ipynb",
      "provenance": []
    },
    "kernelspec": {
      "display_name": "Python 3",
      "name": "python3"
    },
    "language_info": {
      "name": "python"
    }
  },
  "nbformat": 4,
  "nbformat_minor": 0
}
