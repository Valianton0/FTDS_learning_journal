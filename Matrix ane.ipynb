{
 "cells": [
  {
   "cell_type": "markdown",
   "metadata": {},
   "source": [
    "Ingat, matriks adalah sekumpulan vector\n",
    "\n",
    "Vector adalah 1 dimensi array, sedangkan Matrix adalah 2 dimensi array yang terdiri dari row dan column\n",
    "Bayangkan matrix seperti table berbentuk kotak yang berisikan value pada setiap koordinat row dan column nya\n",
    "\n",
    "Kita import dulu numpy nya"
   ]
  },
  {
   "cell_type": "code",
   "execution_count": 3,
   "metadata": {},
   "outputs": [],
   "source": [
    "import numpy as np"
   ]
  },
  {
   "cell_type": "markdown",
   "metadata": {},
   "source": [
    "Contoh vector\n",
    "\n",
    "Ingat urutannya, a1 adalah elemen 1, a2 adalah elemen 2, a3 adalah elemen 3"
   ]
  },
  {
   "cell_type": "code",
   "execution_count": 6,
   "metadata": {},
   "outputs": [],
   "source": [
    "a = np.array([1,2,3])"
   ]
  },
  {
   "cell_type": "markdown",
   "metadata": {},
   "source": [
    "Kita akan mencari tau berapa dimensi vector ini"
   ]
  },
  {
   "cell_type": "code",
   "execution_count": 5,
   "metadata": {},
   "outputs": [
    {
     "data": {
      "text/plain": [
       "(3,)"
      ]
     },
     "execution_count": 5,
     "metadata": {},
     "output_type": "execute_result"
    }
   ],
   "source": [
    "a.shape"
   ]
  },
  {
   "cell_type": "markdown",
   "metadata": {},
   "source": [
    "Jika jawabannya seperti diatas (3,) berarti menjelaskan matriks ini, yg hanya berisikan 1 vektor, adalah 1 dimensi."
   ]
  },
  {
   "cell_type": "markdown",
   "metadata": {},
   "source": [
    "Kalau di python, matrix dapat di input seperti ini untuk visualisasi:"
   ]
  },
  {
   "cell_type": "code",
   "execution_count": 7,
   "metadata": {},
   "outputs": [
    {
     "name": "stdout",
     "output_type": "stream",
     "text": [
      "[[1 2]\n",
      " [3 4]\n",
      " [5 6]]\n"
     ]
    }
   ],
   "source": [
    "a = [[1,2],[3,4],[5,6]]\n",
    "\n",
    "A = np.array(a)\n",
    "print(A)"
   ]
  },
  {
   "cell_type": "markdown",
   "metadata": {},
   "source": [
    "atau"
   ]
  },
  {
   "cell_type": "code",
   "execution_count": 9,
   "metadata": {},
   "outputs": [
    {
     "data": {
      "text/plain": [
       "array([[1, 2],\n",
       "       [3, 4],\n",
       "       [5, 6]])"
      ]
     },
     "execution_count": 9,
     "metadata": {},
     "output_type": "execute_result"
    }
   ],
   "source": [
    "np.array([[1,2],[3,4],[5,6]])"
   ]
  },
  {
   "cell_type": "markdown",
   "metadata": {},
   "source": [
    "Ingat urutan baris dan kolom di python dimulai dari 0\n",
    "\n",
    "Misalnya jika kita ingin mengetahui baris pertama pada sebuah matriks"
   ]
  },
  {
   "cell_type": "code",
   "execution_count": 10,
   "metadata": {},
   "outputs": [
    {
     "data": {
      "text/plain": [
       "array([1, 2])"
      ]
     },
     "execution_count": 10,
     "metadata": {},
     "output_type": "execute_result"
    }
   ],
   "source": [
    "A[0]"
   ]
  },
  {
   "cell_type": "markdown",
   "metadata": {},
   "source": [
    "Atau ingin mengakses satu nilai spesifik pada matriks\n",
    "\n",
    "Contoh ingin mengambil angka 2 pada variabel A"
   ]
  },
  {
   "cell_type": "code",
   "execution_count": 11,
   "metadata": {},
   "outputs": [
    {
     "data": {
      "text/plain": [
       "2"
      ]
     },
     "execution_count": 11,
     "metadata": {},
     "output_type": "execute_result"
    }
   ],
   "source": [
    "A[0,1]"
   ]
  },
  {
   "cell_type": "markdown",
   "metadata": {},
   "source": [
    "Trus gimana kalau mw ngambil nilai kolom nya om??\n",
    "\n",
    "Pake mantra ini:"
   ]
  },
  {
   "cell_type": "code",
   "execution_count": 12,
   "metadata": {},
   "outputs": [
    {
     "data": {
      "text/plain": [
       "array([2, 4, 6])"
      ]
     },
     "execution_count": 12,
     "metadata": {},
     "output_type": "execute_result"
    }
   ],
   "source": [
    "A[:,1]"
   ]
  },
  {
   "cell_type": "markdown",
   "metadata": {},
   "source": [
    "Types of Matrix:\n",
    "\n",
    "Square Matrix, x(m,m) , kalau kolom nya 3 maka baris nya 3 juga, pokoknya bentuk kotak sama sisi lha ya\n",
    "\n",
    "Diagonal Matrix, np.diag(x) ,simpelnya menunjukkan nilai diagonal dari sebuah matrix\n",
    "\n",
    "Identity Matrix, np.eye(shape),melihat bentuk matriks berdasarkan jumlah row dan column. Misal masukkan 3 jika ingin melihat contoh bentuk 3x3\n",
    "\n",
    "Upper Triangle Matrix, np.triu(x) ,yang diambil adalah nilai diagonal dan semua elemen yang berada \"diatas\" kumpulan elemen diagonal tersebut\n",
    "\n",
    "Lower Triangle Matrix, np.tril(x) , yang diambil adalah nilai diagonal dan semua elemen yang berada \"dibawah\" kumpulan elemen diagonal tersebut"
   ]
  },
  {
   "cell_type": "code",
   "execution_count": 14,
   "metadata": {},
   "outputs": [
    {
     "data": {
      "text/plain": [
       "(4, 4)"
      ]
     },
     "execution_count": 14,
     "metadata": {},
     "output_type": "execute_result"
    }
   ],
   "source": [
    "C = np.array([[2,4,5,7],[0,1,2,3],[4,1,0,6],[2,3,1,1]])\n",
    "\n",
    "C.shape"
   ]
  },
  {
   "cell_type": "markdown",
   "metadata": {},
   "source": [
    "Pada C.shape menjelaskan bahwa ada 2 dimensi dengan jumlah 4 row dan 4 column"
   ]
  },
  {
   "cell_type": "markdown",
   "metadata": {},
   "source": [
    "Misalkan ingin melihat contoh bentuk matriks 3x3 menggunakan identity matrix"
   ]
  },
  {
   "cell_type": "code",
   "execution_count": 15,
   "metadata": {},
   "outputs": [
    {
     "data": {
      "text/plain": [
       "array([[1., 0., 0.],\n",
       "       [0., 1., 0.],\n",
       "       [0., 0., 1.]])"
      ]
     },
     "execution_count": 15,
     "metadata": {},
     "output_type": "execute_result"
    }
   ],
   "source": [
    "np.eye(3)"
   ]
  },
  {
   "cell_type": "markdown",
   "metadata": {},
   "source": [
    "Penjumlahan atau Pengurangan antar Matriks\n",
    "\n",
    "Ingat, jumlah row dan column harus sama, misal ukuran 3x3 baru bisa disandingkan dengan matriks lain yg berukuran 3x3 juga, selain dari itu bakalan error"
   ]
  },
  {
   "cell_type": "code",
   "execution_count": 16,
   "metadata": {},
   "outputs": [
    {
     "data": {
      "text/plain": [
       "array([[ 1,  3,  5],\n",
       "       [ 8,  6,  7],\n",
       "       [ 9,  9, 15]])"
      ]
     },
     "execution_count": 16,
     "metadata": {},
     "output_type": "execute_result"
    }
   ],
   "source": [
    "B = np.array([[1,2,3],[4,5,6],[7,8,9]])\n",
    "\n",
    "C = np.array([[0,1,2],[4,1,1],[2,1,6]])\n",
    "\n",
    "B + C"
   ]
  },
  {
   "cell_type": "markdown",
   "metadata": {},
   "source": [
    "Penjumlahan atau Pengurangan Skalar ke Matriks"
   ]
  },
  {
   "cell_type": "code",
   "execution_count": 17,
   "metadata": {},
   "outputs": [
    {
     "data": {
      "text/plain": [
       "array([[ 5,  6,  7],\n",
       "       [ 8,  9, 10],\n",
       "       [11, 12, 13]])"
      ]
     },
     "execution_count": 17,
     "metadata": {},
     "output_type": "execute_result"
    }
   ],
   "source": [
    "4 + B"
   ]
  },
  {
   "cell_type": "markdown",
   "metadata": {},
   "source": [
    "Ada tiga cara untuk melakukan perkalian Matrix, yaitu;\n",
    "\n",
    "Matrix Multiplication, contoh B * C\n",
    "\n",
    "Matrix - Scalar, contoh B * 5\n",
    "\n",
    "Hadamard Product, contoh  A = B * C , hampir ga ada bedanya ama matrix multiplication\n",
    "\n",
    "Matrix - Matrix Multiplication, cukup ribet, ada part nya sendiri untuk dijelaskan"
   ]
  },
  {
   "cell_type": "markdown",
   "metadata": {},
   "source": [
    "Matrix - Matrix  Multiplication\n",
    "\n",
    "Aturannya adalah jumlah kolom di matriks pertama harus sama jumlahnya dengan jumlah baris di matriks ke dua\n",
    "\n",
    "Contoh:"
   ]
  },
  {
   "cell_type": "code",
   "execution_count": 20,
   "metadata": {},
   "outputs": [
    {
     "name": "stdout",
     "output_type": "stream",
     "text": [
      "[[ 3  6  2]\n",
      " [ 8 17  8]]\n"
     ]
    }
   ],
   "source": [
    "matrix_A = np.array([[1,0,1], [2,1,3]])\n",
    "matrix_B = np.array([[1,2,1], [0,1,3], [2,4,1]])\n",
    "\n",
    "print(matrix_A.dot(matrix_B))"
   ]
  },
  {
   "cell_type": "code",
   "execution_count": 21,
   "metadata": {},
   "outputs": [
    {
     "name": "stdout",
     "output_type": "stream",
     "text": [
      "[[ 3  6  2]\n",
      " [ 8 17  8]]\n"
     ]
    }
   ],
   "source": [
    "print(matrix_A@matrix_B)"
   ]
  },
  {
   "cell_type": "markdown",
   "metadata": {},
   "source": [
    "TRANSPOSE\n",
    "\n",
    "Berfungsi untuk membalikkan row menjadi column dan column menjadi row\n",
    "\n",
    "Gunakan .T untuk memanggil fungsi transpose di numpy\n",
    "\n",
    "ATAU\n",
    "\n",
    "Gunakan df.transpose() di pandas\n",
    "\n",
    "Contoh:"
   ]
  },
  {
   "cell_type": "code",
   "execution_count": 23,
   "metadata": {},
   "outputs": [
    {
     "data": {
      "text/plain": [
       "array([[1, 2],\n",
       "       [3, 4],\n",
       "       [5, 6]])"
      ]
     },
     "execution_count": 23,
     "metadata": {},
     "output_type": "execute_result"
    }
   ],
   "source": [
    "A"
   ]
  },
  {
   "cell_type": "code",
   "execution_count": 24,
   "metadata": {},
   "outputs": [
    {
     "data": {
      "text/plain": [
       "array([[1, 3, 5],\n",
       "       [2, 4, 6]])"
      ]
     },
     "execution_count": 24,
     "metadata": {},
     "output_type": "execute_result"
    }
   ],
   "source": [
    "A.T"
   ]
  },
  {
   "cell_type": "markdown",
   "metadata": {},
   "source": [
    "info sekilas\n",
    "\n",
    "Python object terbagi dua, yaitu attribut dan method\n",
    "\n",
    "Inverse Matrix hanya dapat dilakukan dengan matriks yang berbentuk persegi"
   ]
  },
  {
   "cell_type": "markdown",
   "metadata": {},
   "source": [
    "INVERSE MATRIKS"
   ]
  },
  {
   "cell_type": "code",
   "execution_count": 27,
   "metadata": {},
   "outputs": [],
   "source": [
    "from numpy.linalg import inv"
   ]
  },
  {
   "cell_type": "markdown",
   "metadata": {},
   "source": [
    "Atau bisa juga menggunakan fungsi ini:"
   ]
  },
  {
   "cell_type": "code",
   "execution_count": null,
   "metadata": {},
   "outputs": [],
   "source": []
  },
  {
   "cell_type": "markdown",
   "metadata": {},
   "source": [
    "# MATRIX DETERMINANT"
   ]
  },
  {
   "cell_type": "markdown",
   "metadata": {},
   "source": [
    "Wesh baca ntar di kode id"
   ]
  },
  {
   "cell_type": "markdown",
   "metadata": {},
   "source": [
    "# TENSOR\n",
    "\n",
    "Tensor adalah multidimensional array matriks,\n",
    "\n",
    "Misalnya kita memiliki 3x3x3 three dimensional tensor"
   ]
  },
  {
   "cell_type": "code",
   "execution_count": 33,
   "metadata": {},
   "outputs": [
    {
     "name": "stdout",
     "output_type": "stream",
     "text": [
      "(3, 3, 3)\n",
      "[[[1 0 2]\n",
      "  [2 5 4]\n",
      "  [1 1 1]]\n",
      "\n",
      " [[6 7 1]\n",
      "  [0 2 4]\n",
      "  [7 8 1]]\n",
      "\n",
      " [[1 1 3]\n",
      "  [4 5 1]\n",
      "  [2 3 7]]]\n"
     ]
    }
   ],
   "source": [
    "T = np.array([\n",
    "            [[1,0,2], [2,5,4], [1,1,1]],\n",
    "            [[6,7,1], [0,2,4], [7,8,1]],\n",
    "            [[1,1,3], [4,5,1], [2,3,7]]\n",
    "])\n",
    "\n",
    "print(T.shape)\n",
    "print(T)"
   ]
  },
  {
   "cell_type": "markdown",
   "metadata": {},
   "source": []
  }
 ],
 "metadata": {
  "interpreter": {
   "hash": "040a3f849694262f88dd14858fa1ae48bb1a4e603a62bc63af1b411dd2a43394"
  },
  "kernelspec": {
   "display_name": "Python 3.10.0 64-bit",
   "language": "python",
   "name": "python3"
  },
  "language_info": {
   "codemirror_mode": {
    "name": "ipython",
    "version": 3
   },
   "file_extension": ".py",
   "mimetype": "text/x-python",
   "name": "python",
   "nbconvert_exporter": "python",
   "pygments_lexer": "ipython3",
   "version": "3.10.0"
  },
  "orig_nbformat": 4
 },
 "nbformat": 4,
 "nbformat_minor": 2
}
