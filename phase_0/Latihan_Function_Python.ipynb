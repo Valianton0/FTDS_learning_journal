{
  "nbformat": 4,
  "nbformat_minor": 0,
  "metadata": {
    "colab": {
      "name": "Latihan Function Python.ipynb",
      "provenance": [],
      "collapsed_sections": []
    },
    "kernelspec": {
      "name": "python3",
      "display_name": "Python 3"
    },
    "language_info": {
      "name": "python"
    }
  },
  "cells": [
    {
      "cell_type": "code",
      "execution_count": null,
      "metadata": {
        "colab": {
          "base_uri": "https://localhost:8080/"
        },
        "id": "jh5parWw8Bo-",
        "outputId": "6c23e4a1-a062-4bf6-b8e8-353f2359a04b"
      },
      "outputs": [
        {
          "output_type": "stream",
          "name": "stdout",
          "text": [
            "200\n"
          ]
        }
      ],
      "source": [
        "# contoh kasus untuk mempersingkat penulisan code\n",
        "panjang = 10\n",
        "lebar = 20\n",
        "\n",
        "luas = panjang*lebar\n",
        "print(luas)"
      ]
    },
    {
      "cell_type": "code",
      "source": [
        "def hitung_luas_persegi_panjang(panjang, lebar):\n",
        "  luas = panjang*lebar\n",
        "  print(luas)\n",
        "\n",
        "hitung_luas_persegi_panjang(10,20)"
      ],
      "metadata": {
        "colab": {
          "base_uri": "https://localhost:8080/"
        },
        "id": "clk60H0C8ouc",
        "outputId": "b830ad03-26cb-48b9-b017-52ee301dcacc"
      },
      "execution_count": null,
      "outputs": [
        {
          "output_type": "stream",
          "name": "stdout",
          "text": [
            "200\n"
          ]
        }
      ]
    },
    {
      "cell_type": "code",
      "source": [
        "def cetak_plus(n):\n",
        "  if n<=0:\n",
        "    print(\"Input salah\")\n",
        "  else:\n",
        "    for index in range(0,n):\n",
        "      print(\"+\")\n",
        "\n",
        "cetak_plus(5)"
      ],
      "metadata": {
        "colab": {
          "base_uri": "https://localhost:8080/"
        },
        "id": "TWbT-aKG9dIg",
        "outputId": "baf4381b-dbd2-4055-c8d1-19adecf84ce4"
      },
      "execution_count": null,
      "outputs": [
        {
          "output_type": "stream",
          "name": "stdout",
          "text": [
            "+\n",
            "+\n",
            "+\n",
            "+\n",
            "+\n"
          ]
        }
      ]
    },
    {
      "cell_type": "code",
      "source": [
        "def cetak_angka_genap(daftar_angka):\n",
        "  hasil = []\n",
        "  for angka in daftar_angka:\n",
        "    if angka != 0:\n",
        "      if angka % 2 == 0:\n",
        "        hasil.append(angka)\n",
        "  return hasil\n",
        "\n",
        "#cetak_angka_genap(daftar_angka=[1,2,3,4,5,6])\n",
        "output = cetak_angka_genap(daftar_angka = [-10,-9,-8,-7,-6])\n",
        "print(output)"
      ],
      "metadata": {
        "colab": {
          "base_uri": "https://localhost:8080/"
        },
        "id": "yxbPR7ZO-uhb",
        "outputId": "4bcd6465-74ba-4e14-d9cb-b504d596d3cf"
      },
      "execution_count": null,
      "outputs": [
        {
          "output_type": "stream",
          "name": "stdout",
          "text": [
            "[-10, -8, -6]\n"
          ]
        }
      ]
    },
    {
      "cell_type": "code",
      "source": [
        "def cetak_nama_dan_negara(nama,negara=\"Indonesia\"):\n",
        "  print(\"Halo\",nama,\"dari\",negara)\n",
        "\n",
        "cetak_nama_dan_negara(\"Frank\",\"USA\")"
      ],
      "metadata": {
        "colab": {
          "base_uri": "https://localhost:8080/"
        },
        "id": "dooun4uBBgGb",
        "outputId": "1b030de3-f8c6-41f5-fea2-97d0bdf89ade"
      },
      "execution_count": null,
      "outputs": [
        {
          "output_type": "stream",
          "name": "stdout",
          "text": [
            "Halo Frank dari USA\n"
          ]
        }
      ]
    },
    {
      "cell_type": "code",
      "source": [
        "#default argument nya negara Indonesia\n",
        "def cetak_nama_dan_negara(nama,negara=\"Indonesia\"):\n",
        "  print(\"Halo\",nama,\"dari\",negara)\n",
        "\n",
        "cetak_nama_dan_negara(\"Frank\")"
      ],
      "metadata": {
        "colab": {
          "base_uri": "https://localhost:8080/"
        },
        "id": "wcHQkqZICNVS",
        "outputId": "963b8942-fb03-4aa0-b1cb-70c9b92c5961"
      },
      "execution_count": null,
      "outputs": [
        {
          "output_type": "stream",
          "name": "stdout",
          "text": [
            "Halo Frank dari Indonesia\n"
          ]
        }
      ]
    },
    {
      "cell_type": "code",
      "source": [
        "# cara 1\n",
        "cetak_nama_dan_negara(\"Tom\",\"USA\")\n",
        "\n",
        "# cara 2\n",
        "cetak_nama_dan_negara(nama=\"Tom\",negara=\"USA\")\n",
        "\n",
        "# cara 3\n",
        "cetak_nama_dan_negara(\"Tom\",negara=\"USA\")"
      ],
      "metadata": {
        "colab": {
          "base_uri": "https://localhost:8080/"
        },
        "id": "tVdR14DWCdts",
        "outputId": "b4e4b28f-441e-4bd7-eeaf-0fe28f5c36a2"
      },
      "execution_count": null,
      "outputs": [
        {
          "output_type": "stream",
          "name": "stdout",
          "text": [
            "Halo Tom dari USA\n",
            "Halo Tom dari USA\n",
            "Halo Tom dari USA\n"
          ]
        }
      ]
    },
    {
      "cell_type": "code",
      "source": [
        "def hitung_luas(mode, bilangan_1=0, bilangan_2=0):\n",
        "  # jika tidak ada bilangan yang dimasukkan\n",
        "  if bilangan_1 == 0 and bilangan_2 == 0:\n",
        "    print(\"Input harus ada angka\")\n",
        "\n",
        "    # jika bilangan_1 tidak dimasukkan\n",
        "  elif bilangan_1 == 0:\n",
        "      print(\"Input harus ada bilangan_1\")\n",
        "\n",
        "  else:\n",
        "      # jika hanya ada bilangan_1 dan tidak ada bilangan_2\n",
        "    if bilangan_2 == 0:\n",
        "      bilangan_2 = bilangan_1\n",
        "\n",
        "    if mode == \"persegi\":\n",
        "      luas = bilangan_1 * bilangan_2\n",
        "    else:\n",
        "      luas = bilangan_1 * bilangan_2 / 2\n",
        "\n",
        "    # hasil nya bisa diubah ke int atau float biar lebih yakin dan percaya\n",
        "    return int(luas)\n",
        "\n",
        "hitung_luas(mode = \"segitiga\", bilangan_1 = 10, bilangan_2 = 20)"
      ],
      "metadata": {
        "colab": {
          "base_uri": "https://localhost:8080/"
        },
        "id": "OcIVriJ4HV2R",
        "outputId": "7317aaf5-67db-4546-a957-a907947fb6fb"
      },
      "execution_count": null,
      "outputs": [
        {
          "output_type": "execute_result",
          "data": {
            "text/plain": [
              "100.0"
            ]
          },
          "metadata": {},
          "execution_count": 21
        }
      ]
    },
    {
      "cell_type": "code",
      "source": [
        "# cara ke 1 tanpa menggunakan variable length\n",
        "\n",
        "def cetak_angka(posisi, daftar_angka):\n",
        "  if posisi > len(daftar_angka):\n",
        "    hasil = -1\n",
        "  else:\n",
        "    hasil = daftar_angka[posisi]\n",
        "  return hasil\n",
        "\n",
        "cetak_angka(3, (10,20,30,40))"
      ],
      "metadata": {
        "colab": {
          "base_uri": "https://localhost:8080/"
        },
        "id": "RPlTCA0EM8JT",
        "outputId": "57adb5d7-0f99-400b-b63f-14153d98e8c1"
      },
      "execution_count": null,
      "outputs": [
        {
          "output_type": "execute_result",
          "data": {
            "text/plain": [
              "40"
            ]
          },
          "metadata": {},
          "execution_count": 23
        }
      ]
    },
    {
      "cell_type": "code",
      "source": [
        "# penggunaan simbol asterisk tanpa variabel length\n",
        "\n",
        "def cetak_angka(posisi, *daftar_angka):\n",
        "  print(daftar_angka)\n",
        "  if posisi > len(daftar_angka):\n",
        "    hasil = -1\n",
        "  else:\n",
        "    hasil = daftar_angka[posisi]\n",
        "  return hasil\n",
        "\n",
        "cetak_angka(3,10,20,30,40)"
      ],
      "metadata": {
        "colab": {
          "base_uri": "https://localhost:8080/"
        },
        "outputId": "56f630c3-8ac5-4e09-aad8-9b2eb04c68e8",
        "id": "diEtyJkvNj0P"
      },
      "execution_count": null,
      "outputs": [
        {
          "output_type": "stream",
          "name": "stdout",
          "text": [
            "(10, 20, 30, 40)\n"
          ]
        },
        {
          "output_type": "execute_result",
          "data": {
            "text/plain": [
              "40"
            ]
          },
          "metadata": {},
          "execution_count": 26
        }
      ]
    },
    {
      "cell_type": "code",
      "source": [
        "# still bingung\n",
        "def cek_nilai(**daftar_siswa):\n",
        "  print(daftar_siswa)\n",
        "\n",
        "  daftar_nama = list(daftar_siswa.keys())\n",
        "  daftar_nilai = list(daftar_siswa.values())\n",
        "\n",
        "  nilai_maks = 0\n",
        "  nama_maks = \"\"\n",
        "  for index, nilai in enumerate (daftar_nilai):\n",
        "    if nilai >= nilai_maks:\n",
        "      nilai_maks = nilai\n",
        "      nama_maks = daftar_nama[index]\n",
        "\n",
        "  return nama_maks\n",
        "\n",
        "nama = cek_nilai(anwar=90, budi=40, charlie=100)\n",
        "print(\"Nama siswa skor tertinggi:\", nama)"
      ],
      "metadata": {
        "colab": {
          "base_uri": "https://localhost:8080/"
        },
        "id": "YsTqjKBrPrWi",
        "outputId": "0fd3dca2-33e3-469e-8e59-8cfa479f4932"
      },
      "execution_count": null,
      "outputs": [
        {
          "output_type": "stream",
          "name": "stdout",
          "text": [
            "{'anwar': 90, 'budi': 40, 'charlie': 100}\n",
            "Nama siswa skor tertinggi: charlie\n"
          ]
        }
      ]
    },
    {
      "cell_type": "code",
      "source": [
        "import person as psn"
      ],
      "metadata": {
        "id": "_EKV_q9HVfsW"
      },
      "execution_count": 45,
      "outputs": []
    },
    {
      "cell_type": "code",
      "source": [
        "import car as car"
      ],
      "metadata": {
        "colab": {
          "base_uri": "https://localhost:8080/"
        },
        "id": "TPjMEM8ZWZcN",
        "outputId": "c1fc92d7-f54f-4d7c-e588-8faa0f287bfa"
      },
      "execution_count": 44,
      "outputs": [
        {
          "output_type": "stream",
          "name": "stdout",
          "text": [
            "brands =  ['honda', 'toyota', 'ford']\n"
          ]
        }
      ]
    },
    {
      "cell_type": "markdown",
      "source": [
        "### FREE PRACTICE"
      ],
      "metadata": {
        "id": "toEZdOPgff61"
      }
    },
    {
      "cell_type": "code",
      "source": [
        "# NOMOR 7"
      ],
      "metadata": {
        "id": "RcE0hywOXAYW"
      },
      "execution_count": null,
      "outputs": []
    },
    {
      "cell_type": "code",
      "source": [
        "# contoh u/ no 8\n",
        "\n",
        "def cetak_angka_genap(daftar_angka):\n",
        "  hasil = []\n",
        "  for angka in daftar_angka:\n",
        "    if angka != 0:\n",
        "      if angka % 2 == 0:\n",
        "        hasil.append(angka)\n",
        "  return hasil"
      ],
      "metadata": {
        "id": "venRqjA4u6LA"
      },
      "execution_count": null,
      "outputs": []
    },
    {
      "cell_type": "code",
      "source": [
        "# NOMOR 8 test 02\n",
        "\n",
        "teks = \"selamat pagi\"\n",
        "vokal = 0\n",
        "konsonan = 0\n",
        "\n",
        "def huruf_vokal(teks):\n",
        "  hasil = []\n",
        "  for vokal in teks:\n",
        "    if (vokal==\"a\", or vokal==\"e\", or vokal==\"i\", or vokal==\"o\", or vokal==\"u\",  or\n",
        "       vokal==\"A\", or vokal== \"E\", or vokal==\"I\", or vokal==\"O\", or vokal==\"U\")\n",
        "       vokal = vokal +1\n",
        "    else:\n",
        "      konsonan = konsonan +1\n",
        "\n",
        "print(\"Jumlah huruf vokal:\", vokal)"
      ],
      "metadata": {
        "id": "UUoSeUOLfrQp",
        "colab": {
          "base_uri": "https://localhost:8080/",
          "height": 129
        },
        "outputId": "b7ff161a-8a96-4929-fa3f-524898c20660"
      },
      "execution_count": 50,
      "outputs": [
        {
          "output_type": "error",
          "ename": "SyntaxError",
          "evalue": "ignored",
          "traceback": [
            "\u001b[0;36m  File \u001b[0;32m\"<ipython-input-50-07cf9cfcb422>\"\u001b[0;36m, line \u001b[0;32m10\u001b[0m\n\u001b[0;31m    if (vokal==\"a\", or vokal==\"e\", or vokal==\"i\", or vokal==\"o\", or vokal==\"u\",  or\u001b[0m\n\u001b[0m                     ^\u001b[0m\n\u001b[0;31mSyntaxError\u001b[0m\u001b[0;31m:\u001b[0m invalid syntax\n"
          ]
        }
      ]
    },
    {
      "cell_type": "code",
      "source": [
        "# NOMOR 8 TEST 02"
      ],
      "metadata": {
        "id": "ZnvZoQPwxhte"
      },
      "execution_count": null,
      "outputs": []
    }
  ]
}