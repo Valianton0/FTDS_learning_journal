{
 "cells": [
  {
   "cell_type": "markdown",
   "metadata": {},
   "source": [
    "Apa itu reduksi dimensi?\n",
    "\n",
    "Reduksi dimensi adalah mengurangi dimensi dari data originalnya\n",
    "\n",
    "Misalnya ketika kita melihat bayangan kita, bayangan adalah wujud 2 dimensi dari wujud 3 dimensi kita"
   ]
  },
  {
   "cell_type": "markdown",
   "metadata": {},
   "source": [
    "Apa itu informasi yang hilang?\n",
    "\n",
    "Seperti ngefoto sebuah rumah dari luar, informasi yang hilang adalah furnitur yang ada di dalam rumah namun tidak ikut terpotret"
   ]
  },
  {
   "cell_type": "markdown",
   "metadata": {},
   "source": [
    "LINEAR TRANSFORMATION\n",
    "\n",
    "Bisa dicontohkan dengan analogi function y=f(x) untuk memahami transformasi linear\n",
    "\n",
    "x kecil adalah simbol bilangan\n",
    "\n",
    "X besar adalah simbol matriks\n",
    "\n",
    "Karena X dapat dianggap sebagai sebuah data karena berbentuk matriks"
   ]
  },
  {
   "cell_type": "markdown",
   "metadata": {},
   "source": [
    "REAL SPACE\n",
    "\n",
    "f:X -> Y \n",
    "\n",
    "Artinya adalah f:X bertransformasi menjadi Y\n",
    "\n",
    "Sama dengan f(x) = y\n",
    "\n",
    "f:X -> Y;f(x) = y\n"
   ]
  },
  {
   "cell_type": "markdown",
   "metadata": {},
   "source": [
    "VECTOR SPACE\n",
    "\n",
    "T:V -> W ; T(v) = w"
   ]
  },
  {
   "cell_type": "markdown",
   "metadata": {},
   "source": [
    "v kecil namun tercetak tebal adalah simbol vector"
   ]
  },
  {
   "cell_type": "markdown",
   "metadata": {},
   "source": [
    "INGAT!\n",
    "\n",
    "Pada perkalian antar matriks, hukumnya adalah baris matriks A dikalikan ke kolom matriks B, ROW dikalikan ke COLUMN\n",
    "\n",
    "Jika matriks A yg berukuran 2x2 dikalikan matriks B yg berukuran 2x1, maka hasilnya adalah matriks C yg berukuran 2x1\n",
    "\n",
    "Eigen value dilambangkan simbol lambda yang berbentuk skalar\n",
    "\n",
    "Eigencomposition adalah cara untuk mengubah matriks menjadi bilangan skalar\n",
    "\n",
    "I adalah identitas terhadap sebuah matrix, suatu angka yang tidak dapat diubah\n",
    "\n",
    "Cari tau angka identitas!\n",
    "\n",
    "tujuh pangkat -1 sama dengan 1 per 7"
   ]
  },
  {
   "cell_type": "markdown",
   "metadata": {},
   "source": [
    "## CARI INFORMASI SEPUTAR EIGENCOMPOSITION DI YOUTUBE"
   ]
  },
  {
   "cell_type": "code",
   "execution_count": 2,
   "metadata": {},
   "outputs": [],
   "source": [
    "import numpy as np\n",
    "from numpy.linalg import eig"
   ]
  },
  {
   "cell_type": "code",
   "execution_count": 4,
   "metadata": {},
   "outputs": [
    {
     "name": "stdout",
     "output_type": "stream",
     "text": [
      "[[1 2 3]\n",
      " [4 5 6]\n",
      " [7 8 9]]\n"
     ]
    }
   ],
   "source": [
    "A = np.array(\n",
    "    [\n",
    "        [1,2,3],\n",
    "        [4,5,6],\n",
    "        [7,8,9]\n",
    "    ]\n",
    ")\n",
    "\n",
    "print(A)"
   ]
  },
  {
   "cell_type": "code",
   "execution_count": 6,
   "metadata": {},
   "outputs": [
    {
     "name": "stdout",
     "output_type": "stream",
     "text": [
      "[ 1.61168440e+01 -1.11684397e+00 -1.30367773e-15]\n",
      "[[-0.23197069 -0.78583024  0.40824829]\n",
      " [-0.52532209 -0.08675134 -0.81649658]\n",
      " [-0.8186735   0.61232756  0.40824829]]\n"
     ]
    }
   ],
   "source": [
    "values, vectors = eig(A)\n",
    "\n",
    "print(values)\n",
    "\n",
    "print(vectors)"
   ]
  },
  {
   "cell_type": "markdown",
   "metadata": {},
   "source": [
    "### Pelajari cara mengubah data dari graph ke matriks"
   ]
  },
  {
   "cell_type": "code",
   "execution_count": 7,
   "metadata": {},
   "outputs": [],
   "source": []
  },
  {
   "cell_type": "code",
   "execution_count": null,
   "metadata": {},
   "outputs": [],
   "source": []
  }
 ],
 "metadata": {
  "interpreter": {
   "hash": "040a3f849694262f88dd14858fa1ae48bb1a4e603a62bc63af1b411dd2a43394"
  },
  "kernelspec": {
   "display_name": "Python 3.10.0 64-bit",
   "language": "python",
   "name": "python3"
  },
  "language_info": {
   "codemirror_mode": {
    "name": "ipython",
    "version": 3
   },
   "file_extension": ".py",
   "mimetype": "text/x-python",
   "name": "python",
   "nbconvert_exporter": "python",
   "pygments_lexer": "ipython3",
   "version": "3.10.0"
  },
  "orig_nbformat": 4
 },
 "nbformat": 4,
 "nbformat_minor": 2
}
