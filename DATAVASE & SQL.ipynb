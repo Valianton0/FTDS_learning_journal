{
 "cells": [
  {
   "cell_type": "markdown",
   "metadata": {},
   "source": [
    "-- Menghitung jumlah baris pada table\n",
    "select count(*) from teachers\n",
    "\n",
    "-- Bisa juga menggunakan nama alias\n",
    "select count(*) as jumlah_data from teachers\n",
    "\n",
    "-- bisa juga dengan bentuk seperti ini\n",
    "select count(*) as jumlah_data\n",
    "from teachers\n",
    "\n",
    "-- Select multiple columns\n",
    "select first_name, last_name, school from teachers\n",
    "\n",
    "-- Select multiple columns tapi lebih spesifik\n",
    "select first_name, last_name, school from teachers where school='MIT'\n",
    "\n",
    "-- perhatikan bahwa datanya tersimpan dalam small capital, liat MIT nya\n",
    "select first_name, last_name, school from teachers where school='mit'\n",
    "\n",
    "-- kecuali jika berbentuk binary maka hasilnya tidak akan keluar jika tidak sesuai dgn tabel, contoh\n",
    "select first_name, last_name, school from teachers where binary school='mit'\n",
    "\n",
    "-- select multiple columns lebih jauh lagi\n",
    "select first_name, last_name, school from teachers where school='MIT' or school='Stanford University'\n",
    "\n",
    "-- bisa juga dijadikan seperti tuple untuk menampilkan script nya\n",
    "select first_name, last_name, school from teachers where school in ('MIT', 'Stanford University')\n",
    "\n",
    "-- kombinasi yang lebih jauh lagi\n",
    "select first_name, last_name, school from teachers where school='MIT' or school='Stanford University' and first_name='lee'\n",
    "\n",
    "-- Select teachers where salary > 50000\n",
    "Select * from teachers where salary>50000\n",
    "\n",
    "-- Select teachers where salary > 50000 tapi diurutkan naik, bisa untuk numerik sekaligus alphabet\n",
    "Select * from teachers where salary>50000 order by salary ASC\n",
    "\n",
    "-- select unique schools. kalau pake perintah select school from teachers aja ntar hasilnya ada yang berulang\n",
    "select DISTINCT school from teachers\n",
    "\n",
    "-- Kalau pengen menghitung jumlah sekolah yang ada\n",
    "select count(DISTINCT(school)) from teachers\n"
   ]
  },
  {
   "cell_type": "code",
   "execution_count": null,
   "metadata": {},
   "outputs": [],
   "source": []
  }
 ],
 "metadata": {
  "interpreter": {
   "hash": "040a3f849694262f88dd14858fa1ae48bb1a4e603a62bc63af1b411dd2a43394"
  },
  "kernelspec": {
   "display_name": "Python 3.10.0 64-bit",
   "language": "python",
   "name": "python3"
  },
  "language_info": {
   "name": "python",
   "version": "3.10.0"
  },
  "orig_nbformat": 4
 },
 "nbformat": 4,
 "nbformat_minor": 2
}
