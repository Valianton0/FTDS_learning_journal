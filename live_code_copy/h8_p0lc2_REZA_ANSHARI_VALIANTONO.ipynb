{
 "cells": [
  {
   "cell_type": "markdown",
   "metadata": {},
   "source": [
    "### PERKENALAN"
   ]
  },
  {
   "cell_type": "markdown",
   "metadata": {},
   "source": [
    "Reza Anshari Valiantono\n",
    "\n",
    "FTDS Batch 007"
   ]
  },
  {
   "cell_type": "markdown",
   "metadata": {},
   "source": [
    "### IMPORT LIBRARY"
   ]
  },
  {
   "cell_type": "code",
   "execution_count": 8,
   "metadata": {},
   "outputs": [],
   "source": [
    "import numpy as np\n",
    "import pandas as pd\n",
    "import sympy as sym"
   ]
  },
  {
   "cell_type": "markdown",
   "metadata": {},
   "source": [
    "### PROBLEMS 1"
   ]
  },
  {
   "cell_type": "markdown",
   "metadata": {},
   "source": [
    "Mencari jaringan laman web yang terpenting dari soal yang telah diberikan"
   ]
  },
  {
   "cell_type": "markdown",
   "metadata": {},
   "source": [
    "DATA LOADING"
   ]
  },
  {
   "cell_type": "markdown",
   "metadata": {},
   "source": [
    "Pada script ini saya membentuk sebuah matriks probabilitas/probability matrix berdasarkan hubungan antar laman/matriks"
   ]
  },
  {
   "cell_type": "code",
   "execution_count": 20,
   "metadata": {},
   "outputs": [],
   "source": [
    "P = np.array([\n",
    "    [0, 0, 1/4, 1/4, 1/4, 1/4],\n",
    "    [0, 0, 1/2, 1/2, 0, 0],\n",
    "    [0, 0, 0, 0, 1, 0],\n",
    "    [0, 0, 0, 0, 1, 0],\n",
    "    [1/2, 0, 0, 1/2, 0, 0],\n",
    "    [0, 0, 0, 0, 1, 0]\n",
    "])"
   ]
  },
  {
   "cell_type": "markdown",
   "metadata": {},
   "source": [
    "MATHEMATICAL CALCULATIONS"
   ]
  },
  {
   "cell_type": "markdown",
   "metadata": {},
   "source": [
    "Pertama-tama saya memastikan bahwa probabilitas untuk setiap baris matriks adalah 1"
   ]
  },
  {
   "cell_type": "code",
   "execution_count": 19,
   "metadata": {},
   "outputs": [
    {
     "data": {
      "text/plain": [
       "array([1., 1., 1., 1., 1., 1.])"
      ]
     },
     "execution_count": 19,
     "metadata": {},
     "output_type": "execute_result"
    }
   ],
   "source": [
    "np.sum(P,axis=1)"
   ]
  },
  {
   "cell_type": "markdown",
   "metadata": {},
   "source": [
    "Dengan Numpy, saya mencari eigenvalue dan eigenvector dari matriks-matriks tersebut"
   ]
  },
  {
   "cell_type": "code",
   "execution_count": 12,
   "metadata": {},
   "outputs": [],
   "source": [
    "eigen_vals, eigen_vecs = np.linalg.eig(P.T)\n",
    "order_eigen_values = np.absolute(eigen_vals).argsort()[::-1]\n",
    "eigen_vals = eigen_vals[order_eigen_values]\n",
    "eigen_vecs = eigen_vecs[:, order_eigen_values]"
   ]
  },
  {
   "cell_type": "code",
   "execution_count": 13,
   "metadata": {},
   "outputs": [
    {
     "data": {
      "text/plain": [
       "array([[ 3.86694596e-01+0.j        ,  4.47213595e-01-0.31622777j,\n",
       "         4.47213595e-01+0.31622777j, -2.35166247e-16+0.j        ,\n",
       "         1.90231975e-16+0.j        ,  1.84005963e-16+0.j        ],\n",
       "       [ 0.00000000e+00+0.j        ,  0.00000000e+00-0.j        ,\n",
       "         0.00000000e+00+0.j        ,  0.00000000e+00+0.j        ,\n",
       "         0.00000000e+00+0.j        ,  1.67743384e-19+0.j        ],\n",
       "       [ 9.66736489e-02+0.j        , -7.45355992e-02+0.21081851j,\n",
       "        -7.45355992e-02-0.21081851j, -4.08248290e-01+0.j        ,\n",
       "         5.46038280e-01+0.j        ,  5.44624911e-01+0.j        ],\n",
       "       [ 4.83368245e-01+0.j        ,  3.72677996e-01-0.10540926j,\n",
       "         3.72677996e-01+0.10540926j,  8.16496581e-01+0.j        ,\n",
       "        -7.98739263e-01+0.j        , -7.99131001e-01+0.j        ],\n",
       "       [ 7.73389191e-01+0.j        , -6.70820393e-01-0.j        ,\n",
       "        -6.70820393e-01+0.j        ,  4.89929681e-17+0.j        ,\n",
       "        -3.05949189e-17+0.j        , -3.16529246e-17+0.j        ],\n",
       "       [ 9.66736489e-02+0.j        , -7.45355992e-02+0.21081851j,\n",
       "        -7.45355992e-02-0.21081851j, -4.08248290e-01+0.j        ,\n",
       "         2.52700983e-01+0.j        ,  2.54506090e-01+0.j        ]])"
      ]
     },
     "execution_count": 13,
     "metadata": {},
     "output_type": "execute_result"
    }
   ],
   "source": [
    "eigen_vecs"
   ]
  },
  {
   "cell_type": "code",
   "execution_count": 14,
   "metadata": {},
   "outputs": [
    {
     "data": {
      "text/plain": [
       "array([0.3866946 +0.j, 0.        +0.j, 0.09667365+0.j, 0.48336824+0.j,\n",
       "       0.77338919+0.j, 0.09667365+0.j])"
      ]
     },
     "execution_count": 14,
     "metadata": {},
     "output_type": "execute_result"
    }
   ],
   "source": [
    "r = eigen_vecs[:, 0]\n",
    "\n",
    "r"
   ]
  },
  {
   "cell_type": "code",
   "execution_count": 15,
   "metadata": {},
   "outputs": [
    {
     "data": {
      "text/plain": [
       "array([21.05263158,  0.        ,  5.26315789, 26.31578947, 42.10526316,\n",
       "        5.26315789])"
      ]
     },
     "execution_count": 15,
     "metadata": {},
     "output_type": "execute_result"
    }
   ],
   "source": [
    "visits = 100 * np.real(r/np.sum(r))\n",
    "visits"
   ]
  },
  {
   "cell_type": "markdown",
   "metadata": {},
   "source": [
    "HASIL"
   ]
  },
  {
   "cell_type": "markdown",
   "metadata": {},
   "source": [
    "Berdasarkan hasil yang diperoleh, laman ke-5 adalah laman yang terpenting"
   ]
  },
  {
   "cell_type": "markdown",
   "metadata": {},
   "source": [
    "### PROBLEMS 2"
   ]
  },
  {
   "cell_type": "markdown",
   "metadata": {},
   "source": [
    "Berapakah kecepatan mobil uji Tesla pada 1,5 jam pertama?"
   ]
  },
  {
   "cell_type": "markdown",
   "metadata": {},
   "source": [
    "MATHEMATICAL CALCULATIONS"
   ]
  },
  {
   "cell_type": "markdown",
   "metadata": {},
   "source": [
    "Pertama-tama kita akan mencari turunan nya terlebih dahulu"
   ]
  },
  {
   "cell_type": "code",
   "execution_count": 23,
   "metadata": {},
   "outputs": [
    {
     "data": {
      "text/latex": [
       "$\\displaystyle 6 t^{2} - 6 t - 5$"
      ],
      "text/plain": [
       "6*t**2 - 6*t - 5"
      ]
     },
     "execution_count": 23,
     "metadata": {},
     "output_type": "execute_result"
    }
   ],
   "source": [
    "t = sym.Symbol('t', real=True)\n",
    "\n",
    "X = 2*t**3 - 3*t**2 - 5*t + 6\n",
    "\n",
    "X.diff(t)"
   ]
  },
  {
   "cell_type": "markdown",
   "metadata": {},
   "source": [
    "Setelah turunannya didapatkan, maka kita dapat menghitung velocity/kecepatan mobil uji Tesla setelah 1,5 jam berlalu"
   ]
  },
  {
   "cell_type": "markdown",
   "metadata": {},
   "source": [
    "V(t) = 6t^2 -6t - 5\n",
    "V(t) = 6(2t) - 6\n",
    "\n",
    "Jika t = 1,5 \n",
    "Maka :\n",
    "\n",
    "V(1,5) = 12(1,5) - 6\n",
    "V(1,5) = 18 - 6\n",
    "V(1,5) = 15\n",
    "\n",
    "Jadi, setelah 1,5 jam, kecepatan mobil uji adalah 15 meter per detik atau 54 kpj"
   ]
  },
  {
   "cell_type": "code",
   "execution_count": null,
   "metadata": {},
   "outputs": [],
   "source": []
  }
 ],
 "metadata": {
  "interpreter": {
   "hash": "040a3f849694262f88dd14858fa1ae48bb1a4e603a62bc63af1b411dd2a43394"
  },
  "kernelspec": {
   "display_name": "Python 3.10.0 64-bit",
   "language": "python",
   "name": "python3"
  },
  "language_info": {
   "codemirror_mode": {
    "name": "ipython",
    "version": 3
   },
   "file_extension": ".py",
   "mimetype": "text/x-python",
   "name": "python",
   "nbconvert_exporter": "python",
   "pygments_lexer": "ipython3",
   "version": "3.10.0"
  },
  "orig_nbformat": 4
 },
 "nbformat": 4,
 "nbformat_minor": 2
}
